{
 "cells": [
  {
   "cell_type": "code",
   "execution_count": 1,
   "metadata": {},
   "outputs": [
    {
     "name": "stdout",
     "output_type": "stream",
     "text": [
      "Synthetic data generated and saved to sensordata.csv\n"
     ]
    }
   ],
   "source": [
    "import csv\n",
    "import random\n",
    "from datetime import datetime, timedelta\n",
    "\n",
    "# Define AQI categories for classification\n",
    "AQI_CATEGORIES = [\n",
    "    \"Green (Healthy)\", \"Yellow (Moderate)\", \"Orange (Unhealthy for Sensitive Groups)\",\n",
    "    \"Red (Unhealthy)\", \"Purple (Very Unhealthy)\", \"Brown (Hazardous)\"\n",
    "]\n",
    "\n",
    "# Generate random sensor data for 100 devices\n",
    "device_count = 100\n",
    "data_points_per_device = 10  # Number of data points per device\n",
    "\n",
    "with open('sensordata.csv', mode='w', newline='') as file:\n",
    "    writer = csv.writer(file)\n",
    "    writer.writerow(['device_id', 'temperature', 'humidity', 'aqi', 'ppm', 'latitude', 'longitude', 'timestamp'])\n",
    "\n",
    "    for device_id in range(1, device_count + 1):\n",
    "        for _ in range(data_points_per_device):\n",
    "            temperature = round(random.uniform(15.0, 40.0), 2)  # Random temperature between 15°C and 40°C\n",
    "            humidity = round(random.uniform(20.0, 90.0), 2)     # Random humidity between 20% and 90%\n",
    "            aqi = random.choice(AQI_CATEGORIES)                # Randomly select an AQI category\n",
    "            ppm = round(random.uniform(0.0, 500.0), 2)         # Random PPM value between 0 and 500\n",
    "            latitude = round(random.uniform(16.0, 32.0), 6)    # Random latitude in Saudi Arabia\n",
    "            longitude = round(random.uniform(34.0, 55.0), 6)   # Random longitude in Saudi Arabia\n",
    "            timestamp = datetime.now() - timedelta(days=random.randint(0, 365))  # Random timestamp within the last year\n",
    "\n",
    "            # Write the row to CSV\n",
    "            writer.writerow([device_id, temperature, humidity, aqi, ppm, latitude, longitude, timestamp])\n",
    "\n",
    "print(\"Synthetic data generated and saved to sensordata.csv\")\n"
   ]
  },
  {
   "cell_type": "code",
   "execution_count": null,
   "metadata": {},
   "outputs": [],
   "source": []
  }
 ],
 "metadata": {
  "kernelspec": {
   "display_name": "Python 3",
   "language": "python",
   "name": "python3"
  },
  "language_info": {
   "codemirror_mode": {
    "name": "ipython",
    "version": 3
   },
   "file_extension": ".py",
   "mimetype": "text/x-python",
   "name": "python",
   "nbconvert_exporter": "python",
   "pygments_lexer": "ipython3",
   "version": "3.12.5"
  }
 },
 "nbformat": 4,
 "nbformat_minor": 2
}
